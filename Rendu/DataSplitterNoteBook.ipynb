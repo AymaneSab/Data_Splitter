{
 "cells": [
  {
   "cell_type": "markdown",
   "id": "b81c7203-d680-4a73-89c0-3dfdd9857eae",
   "metadata": {},
   "source": [
    "# BigData Spliter "
   ]
  },
  {
   "cell_type": "markdown",
   "id": "71d95e44-76e2-46f0-af48-1658f1859dff",
   "metadata": {},
   "source": [
    "## Challenge description "
   ]
  },
  {
   "cell_type": "markdown",
   "id": "b3afe836-bddf-4e90-af2d-ab8a6a0755a8",
   "metadata": {},
   "source": [
    "Vous êtes chargé de développer un script Python qui permettra de diviser un fichier CSV contenant des données en trois parties : JSON, base de données et CSV.\n",
    "Le script devra être en mesure de transférer 30% des données sous format JSON, 30% dans une base de données et le reste au format CSV.\n",
    "\n",
    "Vous devez suivre les étapes suivantes pour compléter le challenge :\n",
    "\n",
    "Chargement des données : Le script doit être capable de charger les données à partir d'un fichier CSV. Assurez-vous que le fichier CSV a une en-tête en première ligne.\n",
    "Répartition des données : Vous devez mélanger les lignes du fichier CSV pour garantir une répartition aléatoire des données. Ensuite, calculez le nombre de lignes nécessaires pour chaque destination : 30% pour le fichier JSON, 30% pour la base de données et le reste pour le fichier CSV.\n",
    "Création du fichier JSON : Sauvegardez la partie des données destinée au format JSON dans un fichier JSON. Chaque ligne du fichier JSON doit représenter une entrée des données du fichier CSV.\n",
    "Création du fichier CSV : Sauvegardez la partie des données destinée au format CSV dans un fichier CSV. Assurez-vous de ne pas inclure l'en-tête dans ce fichier.\n",
    "Transfert vers la base de données : Sauvegardez la partie des données destinée à la base de données dans une base de données. Utilisez le nom de table fourni comme argument dans le script.\n",
    "Ajoutez la possibilité de spécifier un taux de répartition personnalisé (par exemple, 40% JSON, 25% base de données, 35% CSV).\n",
    "Votre script devra être flexible et prendre les arguments nécessaires en entrée, tels que le nom du fichier CSV d'origine, le nom du fichier JSON de sortie, le nom de la base de données et le nom de la table de base de données.\n",
    "\n",
    "N.B: Vous pouvez Testez le script sur n'importe quelle Dataset que vous désirer "
   ]
  },
  {
   "cell_type": "markdown",
   "id": "04272796-0f2a-407d-b20e-002c6eb256ea",
   "metadata": {},
   "source": [
    "## Chargement des donnees "
   ]
  },
  {
   "cell_type": "code",
   "execution_count": 6,
   "id": "ff71e032-4b11-4db3-bf55-f20b9c0c12ff",
   "metadata": {},
   "outputs": [],
   "source": [
    "from sqlalchemy import create_engine\n",
    "import pandas as pd \n",
    "import seaborn as sns \n",
    "import mysql.connector\n",
    "import json"
   ]
  },
  {
   "cell_type": "code",
   "execution_count": 7,
   "id": "dc0c2f27-2ecd-475b-a7ad-d61a99cc79a5",
   "metadata": {},
   "outputs": [],
   "source": [
    "df = pd.read_csv('treatedData.csv', encoding='unicode_escape')"
   ]
  },
  {
   "cell_type": "code",
   "execution_count": 8,
   "id": "a44fc799-ef17-4c2e-bed1-d7036af82fa6",
   "metadata": {},
   "outputs": [],
   "source": [
    "df_shuffled = df.sample(frac = 1, random_state = 42)"
   ]
  },
  {
   "cell_type": "code",
   "execution_count": 32,
   "id": "a97d5993-fff0-4500-97be-478603d02de8",
   "metadata": {},
   "outputs": [
    {
     "name": "stdout",
     "output_type": "stream",
     "text": [
      "<class 'pandas.core.frame.DataFrame'>\n",
      "RangeIndex: 4649 entries, 0 to 4648\n",
      "Data columns (total 35 columns):\n",
      " #   Column               Non-Null Count  Dtype  \n",
      "---  ------               --------------  -----  \n",
      " 0   Unnamed: 0           4649 non-null   int64  \n",
      " 1   ID                   4649 non-null   object \n",
      " 2   Date                 4649 non-null   object \n",
      " 3   Age                  4649 non-null   float64\n",
      " 4   Sex                  4649 non-null   object \n",
      " 5   Race                 4649 non-null   object \n",
      " 6   ResidenceCity        4649 non-null   object \n",
      " 7   ResidenceCounty      4649 non-null   object \n",
      " 8   DeathCity            4649 non-null   object \n",
      " 9   DeathCounty          4649 non-null   object \n",
      " 10  DescriptionofInjury  3971 non-null   object \n",
      " 11  InjuryPlace          4649 non-null   object \n",
      " 12  InjuryCity           4649 non-null   object \n",
      " 13  InjuryCounty         4649 non-null   object \n",
      " 14  COD                  4649 non-null   object \n",
      " 15  Heroin               4649 non-null   int64  \n",
      " 16  Cocaine              4649 non-null   int64  \n",
      " 17  Fentanyl             4649 non-null   object \n",
      " 18  Fentanyl_Analogue    4649 non-null   float64\n",
      " 19  Oxycodone            4649 non-null   int64  \n",
      " 20  Oxymorphone          4649 non-null   int64  \n",
      " 21  Ethanol              4649 non-null   int64  \n",
      " 22  Hydrocodone          4649 non-null   int64  \n",
      " 23  Benzodiazepine       4649 non-null   int64  \n",
      " 24  Methadone            4649 non-null   int64  \n",
      " 25  Amphet               4649 non-null   int64  \n",
      " 26  Tramad               4649 non-null   int64  \n",
      " 27  Morphine_NotHeroin   4649 non-null   object \n",
      " 28  Hydromorphone        4649 non-null   int64  \n",
      " 29  OpiateNOS            4649 non-null   int64  \n",
      " 30  AnyOpioid            4649 non-null   object \n",
      " 31  MannerofDeath        4649 non-null   object \n",
      " 32  DeathCityGeo         4649 non-null   object \n",
      " 33  ResidenceCityGeo     4649 non-null   object \n",
      " 34  InjuryCityGeo        4649 non-null   object \n",
      "dtypes: float64(2), int64(13), object(20)\n",
      "memory usage: 1.2+ MB\n"
     ]
    }
   ],
   "source": [
    "df.info()"
   ]
  },
  {
   "cell_type": "code",
   "execution_count": 33,
   "id": "39be80d4-eb7d-42e7-ab96-dbcc9501aa56",
   "metadata": {},
   "outputs": [
    {
     "data": {
      "text/html": [
       "<div>\n",
       "<style scoped>\n",
       "    .dataframe tbody tr th:only-of-type {\n",
       "        vertical-align: middle;\n",
       "    }\n",
       "\n",
       "    .dataframe tbody tr th {\n",
       "        vertical-align: top;\n",
       "    }\n",
       "\n",
       "    .dataframe thead th {\n",
       "        text-align: right;\n",
       "    }\n",
       "</style>\n",
       "<table border=\"1\" class=\"dataframe\">\n",
       "  <thead>\n",
       "    <tr style=\"text-align: right;\">\n",
       "      <th></th>\n",
       "      <th>Unnamed: 0</th>\n",
       "      <th>Age</th>\n",
       "      <th>Heroin</th>\n",
       "      <th>Cocaine</th>\n",
       "      <th>Fentanyl_Analogue</th>\n",
       "      <th>Oxycodone</th>\n",
       "      <th>Oxymorphone</th>\n",
       "      <th>Ethanol</th>\n",
       "      <th>Hydrocodone</th>\n",
       "      <th>Benzodiazepine</th>\n",
       "      <th>Methadone</th>\n",
       "      <th>Amphet</th>\n",
       "      <th>Tramad</th>\n",
       "      <th>Hydromorphone</th>\n",
       "      <th>OpiateNOS</th>\n",
       "    </tr>\n",
       "  </thead>\n",
       "  <tbody>\n",
       "    <tr>\n",
       "      <th>count</th>\n",
       "      <td>4649.000000</td>\n",
       "      <td>4649.000000</td>\n",
       "      <td>4649.000000</td>\n",
       "      <td>4649.000000</td>\n",
       "      <td>4649.000000</td>\n",
       "      <td>4649.000000</td>\n",
       "      <td>4649.000000</td>\n",
       "      <td>4649.000000</td>\n",
       "      <td>4649.000000</td>\n",
       "      <td>4649.000000</td>\n",
       "      <td>4649.000000</td>\n",
       "      <td>4649.000000</td>\n",
       "      <td>4649.000000</td>\n",
       "      <td>4649.000000</td>\n",
       "      <td>4649.000000</td>\n",
       "    </tr>\n",
       "    <tr>\n",
       "      <th>mean</th>\n",
       "      <td>2557.695203</td>\n",
       "      <td>41.975048</td>\n",
       "      <td>0.497526</td>\n",
       "      <td>0.291891</td>\n",
       "      <td>0.077651</td>\n",
       "      <td>0.120886</td>\n",
       "      <td>0.021510</td>\n",
       "      <td>0.243278</td>\n",
       "      <td>0.024091</td>\n",
       "      <td>0.265218</td>\n",
       "      <td>0.094214</td>\n",
       "      <td>0.030544</td>\n",
       "      <td>0.026242</td>\n",
       "      <td>0.004732</td>\n",
       "      <td>0.016778</td>\n",
       "    </tr>\n",
       "    <tr>\n",
       "      <th>std</th>\n",
       "      <td>1469.814886</td>\n",
       "      <td>12.326534</td>\n",
       "      <td>0.500048</td>\n",
       "      <td>0.454681</td>\n",
       "      <td>0.267651</td>\n",
       "      <td>0.326030</td>\n",
       "      <td>0.145093</td>\n",
       "      <td>0.429108</td>\n",
       "      <td>0.153349</td>\n",
       "      <td>0.441497</td>\n",
       "      <td>0.292157</td>\n",
       "      <td>0.172098</td>\n",
       "      <td>0.159872</td>\n",
       "      <td>0.068635</td>\n",
       "      <td>0.128452</td>\n",
       "    </tr>\n",
       "    <tr>\n",
       "      <th>min</th>\n",
       "      <td>5.000000</td>\n",
       "      <td>14.000000</td>\n",
       "      <td>0.000000</td>\n",
       "      <td>0.000000</td>\n",
       "      <td>0.000000</td>\n",
       "      <td>0.000000</td>\n",
       "      <td>0.000000</td>\n",
       "      <td>0.000000</td>\n",
       "      <td>0.000000</td>\n",
       "      <td>0.000000</td>\n",
       "      <td>0.000000</td>\n",
       "      <td>0.000000</td>\n",
       "      <td>0.000000</td>\n",
       "      <td>0.000000</td>\n",
       "      <td>0.000000</td>\n",
       "    </tr>\n",
       "    <tr>\n",
       "      <th>25%</th>\n",
       "      <td>1291.000000</td>\n",
       "      <td>32.000000</td>\n",
       "      <td>0.000000</td>\n",
       "      <td>0.000000</td>\n",
       "      <td>0.000000</td>\n",
       "      <td>0.000000</td>\n",
       "      <td>0.000000</td>\n",
       "      <td>0.000000</td>\n",
       "      <td>0.000000</td>\n",
       "      <td>0.000000</td>\n",
       "      <td>0.000000</td>\n",
       "      <td>0.000000</td>\n",
       "      <td>0.000000</td>\n",
       "      <td>0.000000</td>\n",
       "      <td>0.000000</td>\n",
       "    </tr>\n",
       "    <tr>\n",
       "      <th>50%</th>\n",
       "      <td>2557.000000</td>\n",
       "      <td>42.000000</td>\n",
       "      <td>0.000000</td>\n",
       "      <td>0.000000</td>\n",
       "      <td>0.000000</td>\n",
       "      <td>0.000000</td>\n",
       "      <td>0.000000</td>\n",
       "      <td>0.000000</td>\n",
       "      <td>0.000000</td>\n",
       "      <td>0.000000</td>\n",
       "      <td>0.000000</td>\n",
       "      <td>0.000000</td>\n",
       "      <td>0.000000</td>\n",
       "      <td>0.000000</td>\n",
       "      <td>0.000000</td>\n",
       "    </tr>\n",
       "    <tr>\n",
       "      <th>75%</th>\n",
       "      <td>3829.000000</td>\n",
       "      <td>52.000000</td>\n",
       "      <td>1.000000</td>\n",
       "      <td>1.000000</td>\n",
       "      <td>0.000000</td>\n",
       "      <td>0.000000</td>\n",
       "      <td>0.000000</td>\n",
       "      <td>0.000000</td>\n",
       "      <td>0.000000</td>\n",
       "      <td>1.000000</td>\n",
       "      <td>0.000000</td>\n",
       "      <td>0.000000</td>\n",
       "      <td>0.000000</td>\n",
       "      <td>0.000000</td>\n",
       "      <td>0.000000</td>\n",
       "    </tr>\n",
       "    <tr>\n",
       "      <th>max</th>\n",
       "      <td>5103.000000</td>\n",
       "      <td>87.000000</td>\n",
       "      <td>1.000000</td>\n",
       "      <td>1.000000</td>\n",
       "      <td>1.000000</td>\n",
       "      <td>1.000000</td>\n",
       "      <td>1.000000</td>\n",
       "      <td>1.000000</td>\n",
       "      <td>1.000000</td>\n",
       "      <td>1.000000</td>\n",
       "      <td>1.000000</td>\n",
       "      <td>1.000000</td>\n",
       "      <td>1.000000</td>\n",
       "      <td>1.000000</td>\n",
       "      <td>1.000000</td>\n",
       "    </tr>\n",
       "  </tbody>\n",
       "</table>\n",
       "</div>"
      ],
      "text/plain": [
       "        Unnamed: 0          Age       Heroin      Cocaine  Fentanyl_Analogue  \\\n",
       "count  4649.000000  4649.000000  4649.000000  4649.000000        4649.000000   \n",
       "mean   2557.695203    41.975048     0.497526     0.291891           0.077651   \n",
       "std    1469.814886    12.326534     0.500048     0.454681           0.267651   \n",
       "min       5.000000    14.000000     0.000000     0.000000           0.000000   \n",
       "25%    1291.000000    32.000000     0.000000     0.000000           0.000000   \n",
       "50%    2557.000000    42.000000     0.000000     0.000000           0.000000   \n",
       "75%    3829.000000    52.000000     1.000000     1.000000           0.000000   \n",
       "max    5103.000000    87.000000     1.000000     1.000000           1.000000   \n",
       "\n",
       "         Oxycodone  Oxymorphone      Ethanol  Hydrocodone  Benzodiazepine  \\\n",
       "count  4649.000000  4649.000000  4649.000000  4649.000000     4649.000000   \n",
       "mean      0.120886     0.021510     0.243278     0.024091        0.265218   \n",
       "std       0.326030     0.145093     0.429108     0.153349        0.441497   \n",
       "min       0.000000     0.000000     0.000000     0.000000        0.000000   \n",
       "25%       0.000000     0.000000     0.000000     0.000000        0.000000   \n",
       "50%       0.000000     0.000000     0.000000     0.000000        0.000000   \n",
       "75%       0.000000     0.000000     0.000000     0.000000        1.000000   \n",
       "max       1.000000     1.000000     1.000000     1.000000        1.000000   \n",
       "\n",
       "         Methadone       Amphet       Tramad  Hydromorphone    OpiateNOS  \n",
       "count  4649.000000  4649.000000  4649.000000    4649.000000  4649.000000  \n",
       "mean      0.094214     0.030544     0.026242       0.004732     0.016778  \n",
       "std       0.292157     0.172098     0.159872       0.068635     0.128452  \n",
       "min       0.000000     0.000000     0.000000       0.000000     0.000000  \n",
       "25%       0.000000     0.000000     0.000000       0.000000     0.000000  \n",
       "50%       0.000000     0.000000     0.000000       0.000000     0.000000  \n",
       "75%       0.000000     0.000000     0.000000       0.000000     0.000000  \n",
       "max       1.000000     1.000000     1.000000       1.000000     1.000000  "
      ]
     },
     "execution_count": 33,
     "metadata": {},
     "output_type": "execute_result"
    }
   ],
   "source": [
    "df.describe()"
   ]
  },
  {
   "cell_type": "code",
   "execution_count": 34,
   "id": "313b568f-a4da-40c4-9b09-17c74cb745e8",
   "metadata": {},
   "outputs": [],
   "source": [
    "df = df.drop('Unnamed: 0' , axis = 1 )"
   ]
  },
  {
   "cell_type": "code",
   "execution_count": 35,
   "id": "1beffbec-03e8-4a15-b8b3-1de795989b00",
   "metadata": {},
   "outputs": [
    {
     "data": {
      "text/plain": [
       "<Axes: >"
      ]
     },
     "execution_count": 35,
     "metadata": {},
     "output_type": "execute_result"
    },
    {
     "data": {
      "image/png": "[encoded data removed]",
      "text/plain": [
       "<Figure size 640x480 with 2 Axes>"
      ]
     },
     "metadata": {},
     "output_type": "display_data"
    }
   ],
   "source": [
    "sns.heatmap(df.isnull() , yticklabels = False)"
   ]
  },
  {
   "cell_type": "markdown",
   "id": "baeb5e58-9dfe-4a94-a885-6c8a218fb3ef",
   "metadata": {},
   "source": [
    "### Function To Cast A Part Of The Csv File Into Json Format "
   ]
  },
  {
   "cell_type": "code",
   "execution_count": 36,
   "id": "8751991b-a0c2-4e93-8c08-5e2e73241f47",
   "metadata": {},
   "outputs": [],
   "source": [
    "def save_to_files(df, json_filename, csv_filename):\n",
    "    df.to_csv(csv_filename, index=False)\n",
    "    df_dict = df.to_dict(orient='records')\n",
    "    with open(json_filename, 'w') as json_file:\n",
    "        json.dump(df_dict, json_file)\n"
   ]
  },
  {
   "cell_type": "markdown",
   "id": "4d7a2336-d0b2-464d-96c1-06343500c7e4",
   "metadata": {},
   "source": [
    "### Function To Insert The Remains Of The Csv File , To Relational DataBase   "
   ]
  },
  {
   "cell_type": "code",
   "execution_count": 37,
   "id": "40d96e2e-7f9a-477b-9458-3e319eeaa97f",
   "metadata": {},
   "outputs": [],
   "source": [
    "def save_to_mysql(df, host, user, password, database, table_name):\n",
    "    conn_str = f\"mysql+mysqlconnector://{user}:{password}@{host}/{database}\"\n",
    "    engine = create_engine(conn_str)\n",
    "    \n",
    "    df.iloc[:0].to_sql(table_name, engine, if_exists='replace', index=False)\n",
    "    \n",
    "    # Insert the data into the table\n",
    "    df.to_sql(table_name, engine, if_exists='append', index=False)"
   ]
  },
  {
   "cell_type": "markdown",
   "id": "dd25e187-5df9-4dee-ada8-1dc228fae4dd",
   "metadata": {},
   "source": [
    "### Usage Exemple "
   ]
  },
  {
   "cell_type": "code",
   "execution_count": null,
   "id": "35388e24-70fc-4ff8-b1da-42e59e1269bc",
   "metadata": {},
   "outputs": [],
   "source": [
    "csv_file = input(\"Enter the name of the CSV file: \")\n",
    "json_percentage = float(input(\"Enter the percentage for JSON format (0-100): \"))\n",
    "csv_percentage = float(input(\"Enter the percentage for CSV format (0-100): \"))\n",
    "\n",
    "df = pd.read_csv(csv_file)\n",
    "\n",
    "# Calculate the number of rows for each format based on the percentages\n",
    "total_rows = len(df)\n",
    "json_rows = int(total_rows * json_percentage / 100)\n",
    "csv_rows = int(total_rows * csv_percentage / 100)\n",
    "\n",
    "# Calculate the end indices for each format\n",
    "json_end = json_rows\n",
    "csv_end = json_end + csv_rows\n",
    "\n",
    "json_df = df.iloc[:json_end]\n",
    "csv_df = df.iloc[json_end:csv_end]\n",
    "\n",
    "json_filename = \"JsonData.json\"\n",
    "csv_filename = \"CsvData.csv\"\n",
    "save_to_files(json_df, json_filename, csv_filename)\n",
    "\n",
    "# Save the rest of the DataFrame to MySQL database\n",
    "mysql_host = input(\"Enter MySQL host: \")\n",
    "mysql_user = input(\"Enter MySQL user: \")\n",
    "mysql_password = input(\"Enter MySQL password: \")\n",
    "mysql_database = input(\"Enter MySQL database: \")\n",
    "mysql_table = input(\"Enter the table name for the data: \")\n",
    "\n",
    "save_to_mysql(df.iloc[csv_end:], mysql_host, mysql_user, mysql_password, mysql_database, mysql_table)\n",
    "\n",
    "print(\"Splitting and saving completed successfully.\")"
   ]
  }
 ],
 "metadata": {
  "kernelspec": {
   "display_name": "Python 3 (ipykernel)",
   "language": "python",
   "name": "python3"
  },
  "language_info": {
   "codemirror_mode": {
    "name": "ipython",
    "version": 3
   },
   "file_extension": ".py",
   "mimetype": "text/x-python",
   "name": "python",
   "nbconvert_exporter": "python",
   "pygments_lexer": "ipython3",
   "version": "3.10.9"
  },
  "widgets": {
   "application/vnd.jupyter.widget-state+json": {
    "state": {},
    "version_major": 2,
    "version_minor": 0
   }
  }
 },
 "nbformat": 4,
 "nbformat_minor": 5
}
